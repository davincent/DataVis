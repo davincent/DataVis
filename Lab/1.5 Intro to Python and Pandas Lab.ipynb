{
 "cells": [
  {
   "cell_type": "markdown",
   "id": "03ba50ef-04a5-4edc-9ef8-747de437c608",
   "metadata": {},
   "source": [
    "# Lab Instructions\n",
    "\n",
    "Find a dataset that interests you. I'd recommend starting on [Kaggle](https://www.kaggle.com/). Read through all of the material about the dataset and download a .CSV file.\n",
    "\n",
    "1. Write a short summary of the data.  Where did it come from?  How was it collected?  What are the features in the data?  Why is this dataset interesting to you?  \n",
    "\n",
    "2. Identify 5 interesting questions about your data that you can answer using Pandas methods.  \n",
    "\n",
    "3. Answer those questions!  You may use any method you want (including LLMs) to help you write your code; however, you should use Pandas to find the answers.  LLMs will not always write code in this way without specific instruction.  \n",
    "\n",
    "4. Write the answer to your question in a text box underneath the code you used to calculate the answer.\n",
    "\n"
   ]
  },
  {
   "cell_type": "markdown",
   "id": "74da66be-dbfc-4140-93c4-b600e98f6df2",
   "metadata": {},
   "source": [
    "# Lab Work\n",
    "## Summary\n",
    "### Global EV Charging Stations\n",
    "This dataset contains 242,418 rows of electric vehicle charging stations worldwide from [Kaggle](https://www.kaggle.com/datasets/tarekmasryo/global-ev-charging-stations/data). The data was pulled from [Open Charge Map](https://map.openchargemap.io/#/search) through an API. The feartures I will be focusing on will be the country_code, city, ports, power_kw, and power_class coloumns. I found this dataset interesting because on of my biggest worries about electric vehicle adoption is the lack of infrastructure relative to that of traditional combustion-engine vehicles.\n",
    "## Questions\n",
    "1. What are the Top 10 cities with the most the charging stations?\n",
    "2. What are the Top 10 cities with the most available ports?\n",
    "3. What is the distribution of charging stations by power class?\n",
    "4. What is the distribution of charging port power class?\n",
    "5. What cities have the most Fast Chargers?"
   ]
  },
  {
   "cell_type": "markdown",
   "id": "79f6a876",
   "metadata": {},
   "source": [
    "## What city has the most the charging stations?"
   ]
  },
  {
   "cell_type": "code",
   "execution_count": 12,
   "id": "77f01a0c",
   "metadata": {},
   "outputs": [
    {
     "name": "stdout",
     "output_type": "stream",
     "text": [
      "Top 10 cities by number of charging stations:\n",
      " 1. London: 7,665 stations\n",
      " 2. Los Angeles: 2,128 stations\n",
      " 3. Hammersmith: 1,118 stations\n",
      " 4. Montréal: 991 stations\n",
      " 5. Berlin: 827 stations\n",
      " 6. Toronto: 767 stations\n",
      " 7. San Diego: 758 stations\n",
      " 8. Atlanta: 681 stations\n",
      " 9. Austin: 650 stations\n",
      "10. Hamburg: 627 stations\n"
     ]
    }
   ],
   "source": [
    "import pandas as pd\n",
    "df = pd.read_csv('charging_stations_2025_world.csv')\n",
    "\n",
    "stations_per_city = (df[df['city'].notna()]\n",
    "                        .groupby('city')\n",
    "                        .size()\n",
    "                        .sort_values(ascending=False))\n",
    "    \n",
    "print(\"Top 10 cities by number of charging stations:\")\n",
    "for i, (city, count) in enumerate(stations_per_city.head(10).items(), 1):\n",
    "    print(f\"{i:2}. {city}: {count:,} stations\")"
   ]
  },
  {
   "cell_type": "markdown",
   "id": "e93e0b41",
   "metadata": {},
   "source": [
    "Top 10 cities by number of charging stations:\n",
    " 1. London: 7,665 stations\n",
    " 2. Los Angeles: 2,128 stations\n",
    " 3. Hammersmith: 1,118 stations\n",
    " 4. Montréal: 991 stations\n",
    " 5. Berlin: 827 stations\n",
    " 6. Toronto: 767 stations\n",
    " 7. San Diego: 758 stations\n",
    " 8. Atlanta: 681 stations\n",
    " 9. Austin: 650 stations\n",
    "10. Hamburg: 627 stations"
   ]
  },
  {
   "cell_type": "markdown",
   "id": "300eebe6",
   "metadata": {},
   "source": [
    "## What are the Top 10 cities with the most available ports?"
   ]
  },
  {
   "cell_type": "code",
   "execution_count": 11,
   "id": "799f6ef7",
   "metadata": {},
   "outputs": [
    {
     "name": "stdout",
     "output_type": "stream",
     "text": [
      "Top 10 cities by total number of ports:\n",
      " 1. London: 9,872 ports\n",
      " 2. OSLO: 3,836 ports\n",
      " 3. STOCKHOLM: 3,429 ports\n",
      " 4. GÖTEBORG: 3,321 ports\n",
      " 5. Los Angeles: 2,269 ports\n",
      " 6. Madrid: 1,871 ports\n",
      " 7. Berlin: 1,354 ports\n",
      " 8. Toronto: 1,192 ports\n",
      " 9. Hamburg: 1,171 ports\n",
      "10. Barcelona: 1,149 ports\n"
     ]
    }
   ],
   "source": [
    "ports_per_city = (df[(df['city'].notna()) & (df['ports'].notna())]\n",
    "                     .groupby('city')['ports']\n",
    "                     .sum()\n",
    "                     .sort_values(ascending=False))\n",
    "    \n",
    "print(\"Top 10 cities by total number of ports:\")\n",
    "for i, (city, total_ports) in enumerate(ports_per_city.head(10).items(), 1):\n",
    "    print(f\"{i:2}. {city}: {total_ports:,} ports\")"
   ]
  },
  {
   "cell_type": "markdown",
   "id": "81cb7082",
   "metadata": {},
   "source": [
    "Top 10 cities by total number of ports:\n",
    " 1. London: 9,872 ports\n",
    " 2. OSLO: 3,836 ports\n",
    " 3. STOCKHOLM: 3,429 ports\n",
    " 4. GÖTEBORG: 3,321 ports\n",
    " 5. Los Angeles: 2,269 ports\n",
    " 6. Madrid: 1,871 ports\n",
    " 7. Berlin: 1,354 ports\n",
    " 8. Toronto: 1,192 ports\n",
    " 9. Hamburg: 1,171 ports\n",
    "10. Barcelona: 1,149 ports"
   ]
  },
  {
   "cell_type": "markdown",
   "id": "ae49db87",
   "metadata": {},
   "source": [
    "## What is the distribution of charging stations by power class?"
   ]
  },
  {
   "cell_type": "code",
   "execution_count": 13,
   "id": "249c67cc",
   "metadata": {},
   "outputs": [
    {
     "name": "stdout",
     "output_type": "stream",
     "text": [
      "Charging station power class distribution:\n",
      "1. AC_L1_(<7.5kW): 107,144 stations (44.2%)\n",
      "2. AC_HIGH_(22-49kW): 55,542 stations (22.9%)\n",
      "3. DC_FAST_(50-149kW): 37,329 stations (15.4%)\n",
      "4. AC_L2_(7.5-21kW): 24,238 stations (10.0%)\n",
      "5. DC_ULTRA_(>=150kW): 13,504 stations (5.6%)\n",
      "6. UNKNOWN: 4,660 stations (1.9%)\n"
     ]
    }
   ],
   "source": [
    "power_class_counts = (df[df['power_class'].notna()]\n",
    "                         .groupby('power_class')\n",
    "                         .size()\n",
    "                         .sort_values(ascending=False))\n",
    "    \n",
    "total_stations = len(df)\n",
    "    \n",
    "print(\"Charging station power class distribution:\")\n",
    "for i, (power_class, count) in enumerate(power_class_counts.items(), 1):\n",
    "    percentage = (count / total_stations) * 100\n",
    "    print(f\"{i}. {power_class}: {count:,} stations ({percentage:.1f}%)\")"
   ]
  },
  {
   "cell_type": "markdown",
   "id": "9088a0bd",
   "metadata": {},
   "source": [
    "Charging station power class distribution:\n",
    "1. AC_L1_(<7.5kW): 107,144 stations (44.2%)\n",
    "2. AC_HIGH_(22-49kW): 55,542 stations (22.9%)\n",
    "3. DC_FAST_(50-149kW): 37,329 stations (15.4%)\n",
    "4. AC_L2_(7.5-21kW): 24,238 stations (10.0%)\n",
    "5. DC_ULTRA_(>=150kW): 13,504 stations (5.6%)\n",
    "6. UNKNOWN: 4,660 stations (1.9%)"
   ]
  },
  {
   "cell_type": "markdown",
   "id": "064e3ab6",
   "metadata": {},
   "source": [
    "## What is the distribution of charging port power class?"
   ]
  },
  {
   "cell_type": "code",
   "execution_count": 14,
   "id": "afc53c7b",
   "metadata": {},
   "outputs": [
    {
     "name": "stdout",
     "output_type": "stream",
     "text": [
      "Port power class distribution (by total ports):\n",
      "1. AC_L1_(<7.5kW): 149,544 ports (31.5%)\n",
      "2. AC_HIGH_(22-49kW): 118,632 ports (25.0%)\n",
      "3. DC_FAST_(50-149kW): 74,533 ports (15.7%)\n",
      "4. DC_ULTRA_(>=150kW): 74,005 ports (15.6%)\n",
      "5. AC_L2_(7.5-21kW): 48,347 ports (10.2%)\n",
      "6. UNKNOWN: 9,901 ports (2.1%)\n"
     ]
    }
   ],
   "source": [
    "valid_data = df[(df['power_class'].notna()) & (df['ports'].notna())]\n",
    "ports_by_power_class = (valid_data.groupby('power_class')['ports']\n",
    "                           .sum()\n",
    "                           .sort_values(ascending=False))\n",
    "    \n",
    "total_ports = valid_data['ports'].sum()\n",
    "    \n",
    "print(\"Port power class distribution (by total ports):\")\n",
    "for i, (power_class, port_count) in enumerate(ports_by_power_class.items(), 1):\n",
    "    percentage = (port_count / total_ports) * 100\n",
    "    print(f\"{i}. {power_class}: {port_count:,} ports ({percentage:.1f}%)\")"
   ]
  },
  {
   "cell_type": "markdown",
   "id": "a2c23892",
   "metadata": {},
   "source": [
    "Port power class distribution (by total ports):\n",
    "1. AC_L1_(<7.5kW): 149,544 ports (31.5%)\n",
    "2. AC_HIGH_(22-49kW): 118,632 ports (25.0%)\n",
    "3. DC_FAST_(50-149kW): 74,533 ports (15.7%)\n",
    "4. DC_ULTRA_(>=150kW): 74,005 ports (15.6%)\n",
    "5. AC_L2_(7.5-21kW): 48,347 ports (10.2%)\n",
    "6. UNKNOWN: 9,901 ports (2.1%)\n"
   ]
  },
  {
   "cell_type": "markdown",
   "id": "a9d6bd5e",
   "metadata": {},
   "source": [
    "## What cities have the most Fast Chargers?"
   ]
  },
  {
   "cell_type": "code",
   "execution_count": 15,
   "id": "35e3b93b",
   "metadata": {},
   "outputs": [
    {
     "name": "stdout",
     "output_type": "stream",
     "text": [
      "Top 10 cities by number of fast DC charging stations:\n",
      " 1. London: 278 fast chargers\n",
      " 2. Madrid: 130 fast chargers\n",
      " 3. Hamburg: 106 fast chargers\n",
      " 4. Los Angeles: 93 fast chargers\n",
      " 5. Berlin: 87 fast chargers\n",
      " 6. Bengaluru: 84 fast chargers\n",
      " 7. Houston: 81 fast chargers\n",
      " 8. San Diego: 80 fast chargers\n",
      " 9. Vilnius: 77 fast chargers\n",
      "10. Нижний Новгород: 74 fast chargers\n"
     ]
    }
   ],
   "source": [
    "fast_chargers = df[\n",
    "        (df['city'].notna()) & \n",
    "        ((df['is_fast_dc'] == True) | (df['is_fast_dc'] == 'True'))\n",
    "    ]\n",
    "    \n",
    "fast_chargers_per_city = (fast_chargers.groupby('city')\n",
    "                             .size()\n",
    "                             .sort_values(ascending=False))\n",
    "    \n",
    "print(\"Top 10 cities by number of fast DC charging stations:\")\n",
    "for i, (city, count) in enumerate(fast_chargers_per_city.head(10).items(), 1):\n",
    "    print(f\"{i:2}. {city}: {count:,} fast chargers\")"
   ]
  },
  {
   "cell_type": "markdown",
   "id": "4b37927b",
   "metadata": {},
   "source": [
    "Top 10 cities by number of fast DC charging stations:\n",
    " 1. London: 278 fast chargers\n",
    " 2. Madrid: 130 fast chargers\n",
    " 3. Hamburg: 106 fast chargers\n",
    " 4. Los Angeles: 93 fast chargers\n",
    " 5. Berlin: 87 fast chargers\n",
    " 6. Bengaluru: 84 fast chargers\n",
    " 7. Houston: 81 fast chargers\n",
    " 8. San Diego: 80 fast chargers\n",
    " 9. Vilnius: 77 fast chargers\n",
    "10. Нижний Новгород: 74 fast chargers"
   ]
  }
 ],
 "metadata": {
  "kernelspec": {
   "display_name": "base",
   "language": "python",
   "name": "python3"
  },
  "language_info": {
   "codemirror_mode": {
    "name": "ipython",
    "version": 3
   },
   "file_extension": ".py",
   "mimetype": "text/x-python",
   "name": "python",
   "nbconvert_exporter": "python",
   "pygments_lexer": "ipython3",
   "version": "3.13.5"
  }
 },
 "nbformat": 4,
 "nbformat_minor": 5
}
