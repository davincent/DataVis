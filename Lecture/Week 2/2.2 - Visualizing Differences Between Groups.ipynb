{
 "cells": [
  {
   "cell_type": "markdown",
   "metadata": {},
   "source": [
    "# Visualzing Differences Between Groups \n",
    "\n",
    "In data science, we often want to determine if some feature is the same or different between two groups.  Let's see what we can learn about patterns in data science salaries."
   ]
  },
  {
   "cell_type": "code",
   "execution_count": null,
   "metadata": {
    "tags": []
   },
   "outputs": [],
   "source": []
  },
  {
   "cell_type": "markdown",
   "metadata": {},
   "source": [
    "## Do data scientist salaries change depending on if they are working at small, medium or large companies?\n"
   ]
  },
  {
   "cell_type": "code",
   "execution_count": null,
   "metadata": {},
   "outputs": [],
   "source": []
  },
  {
   "cell_type": "code",
   "execution_count": null,
   "metadata": {
    "tags": []
   },
   "outputs": [],
   "source": []
  },
  {
   "cell_type": "code",
   "execution_count": null,
   "metadata": {
    "tags": []
   },
   "outputs": [],
   "source": []
  },
  {
   "cell_type": "markdown",
   "metadata": {
    "nbpresent": {
     "id": "3a9e249d-8f8e-48a7-94ad-7c0147a7980d"
    },
    "slideshow": {
     "slide_type": "-"
    }
   },
   "source": [
    "# Seaborn\n",
    "Seaborn is a Python data visualization library based on `matplotlib` (which we have used a little bit before). It provides a higher-level interface for drawing attractive and informative statistical graphics. Here's a brief history and overview:\n",
    "\n",
    "**Origin**: Seaborn was created by Michael Waskom, who started the project during his graduate studies. The library was intended to make visualizations that are directly related to statistical analyses more accessible and to improve upon some of the default aesthetics provided by `matplotlib`.\n",
    "\n",
    "**Name Origin**: The name \"Seaborn\" is actually a reference to a character named Sam Seaborn from the television show \"The West Wing\". Michael Waskom, the creator, has confirmed this in discussions online.\n",
    "\n",
    "**Aesthetics and Themes**: One of the first things users notice about Seaborn is its capability to produce visually pleasing plots with just default settings. Seaborn comes with several themes and color palettes that are designed to reveal patterns in data in a manner that's visually appealing and easily interpretable.\n",
    "\n",
    "**Functionalities**: Over the years, Seaborn has introduced many functionalities that simplify complex visualization tasks. "
   ]
  },
  {
   "cell_type": "markdown",
   "metadata": {},
   "source": [
    "## Comparing histograms\n",
    "\n",
    "We've looked at the histogram of a single feature before using the Pandas built-in plotting functions, but let's see how we do it using Seaborn with the `histplot` method.  \n",
    "\n",
    "By convention, we import `seaborn` as `sns`.  We'll also import `matplotlib.pyplot` for use later."
   ]
  },
  {
   "cell_type": "code",
   "execution_count": null,
   "metadata": {},
   "outputs": [],
   "source": [
    "import seaborn as sns\n",
    "import matplotlib.pyplot as plt\n",
    "\n",
    "import warnings\n",
    "warnings.simplefilter(action='ignore', category=FutureWarning)\n"
   ]
  },
  {
   "cell_type": "code",
   "execution_count": null,
   "metadata": {
    "tags": []
   },
   "outputs": [],
   "source": []
  },
  {
   "cell_type": "markdown",
   "metadata": {},
   "source": [
    "Let's see how this changes depending on what size company the person was employed at."
   ]
  },
  {
   "cell_type": "code",
   "execution_count": null,
   "metadata": {
    "tags": []
   },
   "outputs": [],
   "source": [
    "#Seaborn palettes: deep, muted, pastel, bright, dark, colorblind\n"
   ]
  },
  {
   "cell_type": "code",
   "execution_count": null,
   "metadata": {
    "tags": []
   },
   "outputs": [],
   "source": []
  },
  {
   "cell_type": "markdown",
   "metadata": {},
   "source": [
    "What can we say about differences in salaries by company size?"
   ]
  },
  {
   "cell_type": "markdown",
   "metadata": {
    "tags": []
   },
   "source": [
    "## Comparing box plots\n",
    "\n",
    "A different figure we can use to compare the distribution of two or more groups, which you may or may not have seen in the past, is called a box plot.\n",
    "\n",
    "Box plots (originally called box and whisker plots) were developed by John Tukey, an influential American mathematician and statistician known for his significant contributions to various areas within the field of statistics and beyond\n",
    "\n",
    "Box plots make it easy for us to visualize and compare 6 different aspects of the distribution of a feature: the minimum, the 25th percentile, the median, the 75th percentile, the range, and the middle 50th percentile.  "
   ]
  },
  {
   "cell_type": "code",
   "execution_count": null,
   "metadata": {
    "tags": []
   },
   "outputs": [],
   "source": []
  },
  {
   "cell_type": "code",
   "execution_count": null,
   "metadata": {
    "tags": []
   },
   "outputs": [],
   "source": []
  },
  {
   "cell_type": "code",
   "execution_count": null,
   "metadata": {
    "tags": []
   },
   "outputs": [],
   "source": []
  },
  {
   "cell_type": "code",
   "execution_count": null,
   "metadata": {
    "tags": []
   },
   "outputs": [],
   "source": []
  },
  {
   "cell_type": "code",
   "execution_count": null,
   "metadata": {
    "tags": []
   },
   "outputs": [],
   "source": []
  },
  {
   "cell_type": "code",
   "execution_count": null,
   "metadata": {
    "tags": []
   },
   "outputs": [],
   "source": []
  },
  {
   "cell_type": "markdown",
   "metadata": {},
   "source": [
    "The vertical lines on the box plot indicate the values of the minimum, the 25th percentile, the median, the 75th percentile and the max.\n",
    "\n"
   ]
  },
  {
   "cell_type": "code",
   "execution_count": null,
   "metadata": {
    "tags": []
   },
   "outputs": [],
   "source": []
  },
  {
   "cell_type": "markdown",
   "metadata": {},
   "source": [
    "Now let's compare the box plots of salary by company size."
   ]
  },
  {
   "cell_type": "code",
   "execution_count": null,
   "metadata": {},
   "outputs": [],
   "source": [
    "\n"
   ]
  },
  {
   "cell_type": "markdown",
   "metadata": {},
   "source": [
    "What can we say about data science salaries from looking at the boxplots?\n",
    "\n",
    "What are aspects of the distributions that are easier to see from the boxplots than the histograms?  And vice versa?"
   ]
  },
  {
   "cell_type": "markdown",
   "metadata": {},
   "source": [
    "## How do data science salaries change by experience level?\n",
    "\n",
    "Note\n",
    "\n",
    "EN > Entry-level / Junior\n",
    "\n",
    "MI> Mid-level / Intermediate\n",
    "\n",
    "SE > Senior-level / Expert\n",
    "\n",
    "EX > Executive-level / Director"
   ]
  },
  {
   "cell_type": "code",
   "execution_count": null,
   "metadata": {
    "tags": []
   },
   "outputs": [],
   "source": [
    "\n"
   ]
  },
  {
   "cell_type": "markdown",
   "metadata": {},
   "source": [
    "What could be better?"
   ]
  },
  {
   "cell_type": "code",
   "execution_count": null,
   "metadata": {
    "tags": []
   },
   "outputs": [],
   "source": []
  },
  {
   "cell_type": "code",
   "execution_count": null,
   "metadata": {
    "tags": []
   },
   "outputs": [],
   "source": []
  },
  {
   "cell_type": "markdown",
   "metadata": {},
   "source": [
    "Let's improve the labeling of this figure, too."
   ]
  },
  {
   "cell_type": "code",
   "execution_count": null,
   "metadata": {
    "tags": []
   },
   "outputs": [],
   "source": []
  },
  {
   "cell_type": "code",
   "execution_count": null,
   "metadata": {
    "tags": []
   },
   "outputs": [],
   "source": []
  },
  {
   "cell_type": "markdown",
   "metadata": {},
   "source": [
    "Now let's look at how salaries change by the percent of remote work (0, 50 or 100%)"
   ]
  },
  {
   "cell_type": "code",
   "execution_count": null,
   "metadata": {
    "tags": []
   },
   "outputs": [],
   "source": []
  },
  {
   "cell_type": "code",
   "execution_count": null,
   "metadata": {
    "tags": []
   },
   "outputs": [],
   "source": []
  },
  {
   "cell_type": "code",
   "execution_count": null,
   "metadata": {
    "tags": []
   },
   "outputs": [],
   "source": []
  },
  {
   "cell_type": "code",
   "execution_count": null,
   "metadata": {},
   "outputs": [],
   "source": []
  },
  {
   "cell_type": "code",
   "execution_count": null,
   "metadata": {
    "tags": []
   },
   "outputs": [],
   "source": []
  },
  {
   "cell_type": "code",
   "execution_count": null,
   "metadata": {
    "tags": []
   },
   "outputs": [],
   "source": []
  },
  {
   "cell_type": "code",
   "execution_count": null,
   "metadata": {
    "tags": []
   },
   "outputs": [],
   "source": []
  },
  {
   "cell_type": "code",
   "execution_count": null,
   "metadata": {
    "tags": []
   },
   "outputs": [],
   "source": []
  },
  {
   "cell_type": "markdown",
   "metadata": {},
   "source": [
    "## Box plots vs histograms\n",
    "\n",
    "Box plots and histograms show similar but not identical information.  Here are some strengths and weaknesses of both.  \n",
    "\n",
    "### Histogram:\n",
    "\n",
    "**Mode:** A histogram can clearly show unimodal, bimodal, or multimodal distributions, which are distributions with one, two, or multiple peaks, respectively.\n",
    "\n",
    "**Skewness:** The direction and degree of skewness (asymmetry) can be easily discerned from a histogram. You can visually determine if the distribution is skewed to the left (negatively skewed) or to the right (positively skewed).\n",
    "\n",
    "**Gaps and Outliers:** While histograms aren’t the best for identifying individual outliers, they are excellent for spotting gaps in data or unusual spikes, which could suggest possible outliers or data collection issues.\n",
    "\n",
    "**General Shape:** The overall shape of the distribution (bell-shaped, uniform, exponential, etc.) can be inferred from a histogram.\n",
    "\n",
    "### Box Plot:\n",
    "\n",
    "**Median:** The central line inside the box represents the median of the dataset. It gives a clear indication of the dataset's central tendency.\n",
    "\n",
    "**Interquartile Range (IQR):** The size of the box represents the IQR, which is the range between Q1 and Q3. This shows the spread of the central 50% of the data.\n",
    "\n",
    "**Outliers:** One of the key advantages of box plots is the ability to easily visualize outliers. Data points outside the \"whiskers\" are typically considered outliers and are often plotted individually.\n",
    "\n",
    "**Spread and Symmetry:** The spread of the data can be inferred from the range (difference between the minimum and maximum) and the IQR. The symmetry of the distribution about the median can also be inferred to some degree.\n",
    "\n",
    "**Comparisons:** Box plots are particularly useful when comparing distributions across groups. Side-by-side box plots can quickly reveal differences in medians, spreads, and the presence of outliers across multiple groups.\n"
   ]
  },
  {
   "cell_type": "markdown",
   "metadata": {},
   "source": [
    "What is one aspect of the difference in the distribution of age between male and female passengers that is easier to observe from the histogram than from the box plot?  What is one aspect that is easier to observe from the boxplot than the histogram?"
   ]
  },
  {
   "cell_type": "markdown",
   "metadata": {},
   "source": [
    "## Box plot variations\n",
    "\n",
    "There are more recent updates to the boxplot so that they can contain even more information about the distribution of a feature.\n",
    "\n",
    "The **violin plot** shows more detail about exactly where within each quartile observations tend to fall.\n",
    "\n"
   ]
  },
  {
   "cell_type": "code",
   "execution_count": null,
   "metadata": {},
   "outputs": [],
   "source": []
  },
  {
   "cell_type": "markdown",
   "metadata": {},
   "source": [
    "The **swarm plot** plots a dot for ever observation."
   ]
  },
  {
   "cell_type": "code",
   "execution_count": null,
   "metadata": {},
   "outputs": [],
   "source": []
  },
  {
   "cell_type": "code",
   "execution_count": null,
   "metadata": {
    "tags": []
   },
   "outputs": [],
   "source": []
  },
  {
   "cell_type": "markdown",
   "metadata": {},
   "source": [
    "## Dendrograms\n",
    "\n",
    "A **dendrogram** is a tree‑like diagram that visualizes the process and results of **hierarchical clustering**. Here’s how it works, using the Titanic dataset as an example:\n",
    "\n",
    "1. **Compute pairwise distances**\n",
    "\n",
    "   * First, you select the variables you care about (e.g., passenger class, age, fare, survival status) and compute a “distance” or dissimilarity between every pair of passengers.\n",
    "   * Passengers who are similar (say, both are children in 3rd class) have a small distance; very different passengers (an elderly 1st‑class survivor vs. a young 3rd‑class non‑survivor) have a large distance.\n",
    "\n",
    "2. **Iteratively merge clusters**\n",
    "\n",
    "   * Initially, each passenger is its own cluster.\n",
    "   * At each step, you merge the two clusters that are closest together.\n",
    "   * For example, the two children in 3rd class might be the first to join; later, that small child cluster might merge with other 3rd‑class clusters, and so on.\n",
    "\n",
    "3. **Record merge heights**\n",
    "\n",
    "   * Each time two clusters merge, you record the distance (or dissimilarity) at which the merge happened.\n",
    "   * In the Titanic example, a merge at low height might reflect very similar fare and age; a merge at high height might join a wealthy 1st‑class adult group with a low‑fare group.\n",
    "\n",
    "4. **Draw the tree**\n",
    "\n",
    "   * On the horizontal axis, you list all individual passengers (or cluster labels).\n",
    "   * On the vertical axis, you plot the “height” at which each merge occurred.\n",
    "   * Lines (branches) connect merged clusters, with the vertical position indicating the dissimilarity threshold.\n",
    "\n",
    "5. **Interpret clusters**\n",
    "\n",
    "   * By “cutting” the dendrogram at a chosen height, you decide how many clusters to keep.\n",
    "   * For instance, cutting near the bottom might separate survivors vs. non‑survivors; cutting higher might split by class or age group.\n",
    "\n"
   ]
  },
  {
   "cell_type": "code",
   "execution_count": null,
   "metadata": {
    "tags": []
   },
   "outputs": [],
   "source": [
    "import pandas as pd\n",
    "from sklearn.preprocessing import StandardScaler\n",
    "import scipy.cluster.hierarchy as sch\n",
    "import matplotlib.pyplot as plt\n",
    "\n",
    "\n",
    "# 1. Load the dataset\n",
    "df = pd.read_csv('assets/titanic_passengers.csv')\n",
    "\n",
    "# 2. Preprocessing\n",
    "#    – Map 'Sex' to numeric\n",
    "df['Sex'] = df['Sex'].map({'male': 0, 'female': 1})\n",
    "#    – Fill missing Age values with the median\n",
    "df['Age'].fillna(df['Age'].median(), inplace=True)\n",
    "\n",
    "# 3. Select features for clustering\n",
    "features = ['Pclass', 'Sex', 'Age', 'SibSp', 'Parch', 'Fare']\n",
    "X = df[features].values\n",
    "print(\"Features used for clustering:\", features)\n",
    "\n",
    "# 4. Standardize the features\n",
    "scaler = StandardScaler()\n",
    "X_scaled = scaler.fit_transform(X)\n",
    "\n",
    "# 5. Compute linkage matrix using Ward's method\n",
    "linkage_matrix = sch.linkage(X_scaled, method='ward')\n",
    "\n",
    "# 6. Plot the dendrogram\n",
    "plt.figure(figsize=(15, 7))\n",
    "dendro = sch.dendrogram(\n",
    "    linkage_matrix,\n",
    "    labels=df.index.astype(str).tolist(),\n",
    "    leaf_rotation=90,\n",
    "    leaf_font_size=8,\n",
    "    color_threshold=0  # disable automatic coloring\n",
    ")\n",
    "\n",
    "# 7. Color the labels based on Survival\n",
    "ax = plt.gca()\n",
    "for lbl in ax.get_xmajorticklabels():\n",
    "    idx = int(lbl.get_text())\n",
    "    lbl.set_color('green' if df.loc[idx, 'Survived'] == 1 else 'red')\n",
    "\n",
    "plt.title('Hierarchical Clustering Dendrogram of Titanic Passengers\\n'\n",
    "          '(Leaf color = green if survived, red if not)')\n",
    "plt.xlabel('Passenger Index')\n",
    "plt.ylabel('Distance')\n",
    "plt.tight_layout()\n",
    "plt.show()"
   ]
  },
  {
   "cell_type": "markdown",
   "metadata": {},
   "source": [
    "### We can learn things about the clusters by calculating the mean values of the characteristics of the individuals in the cluster. \n",
    "\n",
    "For instance, if we look at the two main clusters:"
   ]
  },
  {
   "cell_type": "code",
   "execution_count": null,
   "metadata": {
    "tags": []
   },
   "outputs": [],
   "source": [
    "from scipy.cluster.hierarchy import fcluster\n",
    "\n",
    "\n",
    "n_clusters = 2\n",
    "cluster_labels = fcluster(linkage_matrix, t=n_clusters, criterion='maxclust')\n",
    "\n",
    "# add to your DataFrame\n",
    "df['cluster'] = cluster_labels\n",
    "\n",
    "# compute the centroid (mean) of each cluster\n",
    "cluster_centroids = df.groupby('cluster')[features].mean()\n",
    "print(cluster_centroids)\n"
   ]
  },
  {
   "cell_type": "markdown",
   "metadata": {},
   "source": [
    "Three clusters"
   ]
  },
  {
   "cell_type": "code",
   "execution_count": null,
   "metadata": {
    "tags": []
   },
   "outputs": [],
   "source": [
    "from scipy.cluster.hierarchy import fcluster\n",
    "\n",
    "\n",
    "n_clusters = 3\n",
    "cluster_labels = fcluster(linkage_matrix, t=n_clusters, criterion='maxclust')\n",
    "\n",
    "# add to your DataFrame\n",
    "df['cluster'] = cluster_labels\n",
    "\n",
    "# compute the centroid (mean) of each cluster\n",
    "cluster_centroids = df.groupby('cluster')[features].mean()\n",
    "print(cluster_centroids)"
   ]
  },
  {
   "cell_type": "markdown",
   "metadata": {},
   "source": [
    "Five clusters"
   ]
  },
  {
   "cell_type": "code",
   "execution_count": null,
   "metadata": {
    "tags": []
   },
   "outputs": [],
   "source": [
    "from scipy.cluster.hierarchy import fcluster\n",
    "\n",
    "\n",
    "n_clusters = 5\n",
    "cluster_labels = fcluster(linkage_matrix, t=n_clusters, criterion='maxclust')\n",
    "\n",
    "# add to your DataFrame\n",
    "df['cluster'] = cluster_labels\n",
    "\n",
    "# compute the centroid (mean) of each cluster\n",
    "cluster_centroids = df.groupby('cluster')[features].mean()\n",
    "print(cluster_centroids)"
   ]
  },
  {
   "cell_type": "code",
   "execution_count": null,
   "metadata": {},
   "outputs": [],
   "source": []
  }
 ],
 "metadata": {
  "anaconda-cloud": {},
  "kernelspec": {
   "display_name": "Python 3 (ipykernel)",
   "language": "python",
   "name": "python3"
  },
  "language_info": {
   "codemirror_mode": {
    "name": "ipython",
    "version": 3
   },
   "file_extension": ".py",
   "mimetype": "text/x-python",
   "name": "python",
   "nbconvert_exporter": "python",
   "pygments_lexer": "ipython3",
   "version": "3.11.4"
  },
  "vscode": {
   "interpreter": {
    "hash": "ce119b89bc2e74c761eac86109834d120346842bff8d13cbadf57b85ac0c1fd2"
   }
  }
 },
 "nbformat": 4,
 "nbformat_minor": 4
}
