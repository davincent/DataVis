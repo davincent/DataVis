{
 "cells": [
  {
   "cell_type": "markdown",
   "metadata": {
    "nbpresent": {
     "id": "3a9e249d-8f8e-48a7-94ad-7c0147a7980d"
    },
    "slideshow": {
     "slide_type": "-"
    }
   },
   "source": [
    "# Visualizing Relationships in Space and Time\n",
    "\n",
    "Visualizing data in space in time is more complex than other types of data that we've worked with so far, and often the two - space and time - are interconnected.\n",
    "\n",
    "## How Spatial Data is Different:\n",
    "\n",
    "**Geographical Reference:** Spatial data is always tied to some location on the Earth, whether it's a point (like a city's location), a line (like a river or road), or a polygon (like the boundaries of a country).\n",
    "\n",
    "**Multiple Dimensions:** In addition to traditional data dimensions (like time or categorical attributes), spatial data has at least two or three spatial dimensions (latitude, longitude, and possibly altitude).\n",
    "\n",
    "**Complex Relationships:** Spatial data often has involves more sophisticated concepts like adjacency (which regions are next to each other), containment (a city contained within a state), and connectivity (how two places are connected by roads).\n",
    "\n",
    "**Varied Scales:** Spatial data can be represented and analyzed at multiple scales, from the global scale down to street level.\n",
    "\n",
    "\n",
    "## How Time Data is Different:\n",
    "\n",
    "**Temporal Order Matters**: Unlike many other types of data, the order of observations in a time series is crucial. This means that the x-axis (typically representing time) is not just a category but a continuous or discrete progression.\n",
    "\n",
    "**Trends, Seasonality, and Autocorrelation**: Time series data can show long-term trends, seasonal patterns, and cycles. Identifying these components visually is crucial for many analyses.  Additionally, observations in time series data often depend on previous observations, which is called autocorrelation.\n",
    "\n",
    "**Noise**: Time series data can be \"noisy\", meaning it can seem to fluctuate up and down much more than other types of data.\n",
    "\n",
    "**Annotations**: Significant external events can impact time series data. For instance, an unexpected event might cause a sudden spike or drop in sales data. Annotating these can provide context to those viewing the visualization.\n",
    "\n",
    "\n",
    "## Examples: \n",
    "\n",
    "### Visualizing neighborhoods in New York City\n",
    "https://www.nytimes.com/interactive/2023/upshot/extremely-detailed-nyc-neighborhood-map.html?unlocked_article_code=1.QE0.1RIX.nHt7o8GXvdIo&bgrp=t&smid=url-share\n",
    "\n",
    "### Air safety data\n",
    "https://www.nytimes.com/interactive/2023/08/21/business/airline-safety-close-calls.html?unlocked_article_code=1.QE0.uSpQ.Fxy2EAugRln-&bgrp=t&smid=url-share\n",
    "\n",
    "### Shipping oil from India\n",
    "https://www.nytimes.com/interactive/2023/06/22/business/india-russia-oil.html?unlocked_article_code=1.QE0.GiSc.GL1fCETP9Khf&bgrp=t&smid=url-share\n",
    "\n",
    "### Visualizing Birthplace by Current Residence in the US\n",
    "https://www.nytimes.com/2014/08/16/upshot/mapping-migration-in-the-united-states-since-1900.html?unlocked_article_code=1.QE0.MfTP.j77BjqRAeAnb&bgrp=t&smid=url-share\n",
    "\n",
    "### The Baby Name Voyager\n",
    "https://web.archive.org/web/20211108150814/https://www.babynamewizard.com/voyager#prefix=&sw=both&exact=false\n",
    "\n",
    "### The US Dialect Quiz\n",
    "https://www.nytimes.com/interactive/2014/upshot/dialect-quiz-map.html?unlocked_article_code=1.SE0.ST6F.vKsEZKvboSFr&bgrp=t&smid=url-share\n",
    "\n",
    "### Visualizing Sound in Notre Dame\n",
    "https://www.nytimes.com/interactive/2023/03/03/magazine/notre-dame-cathedral-acoustics-sound.html?unlocked_article_code=1.SE0.J0oL.nQeyxOvnFU7T&bgrp=t&smid=url-share\n",
    "\n",
    "### Starlink Satellites\n",
    "https://www.nytimes.com/interactive/2023/07/28/business/starlink.html?unlocked_article_code=1.SE0.bw4G.I_vEYOq_N6ap&bgrp=t&smid=url-share"
   ]
  },
  {
   "cell_type": "markdown",
   "metadata": {},
   "source": [
    "## Plotly Express\n",
    "\n",
    "We are going to use another Python library called Plotly Express to create interactive visualizations of spatial and time-series data.\n",
    "\n",
    "**Origin:** Plotly Express (often abbreviated as px) is a part of the Plotly ecosystem. Plotly itself began as a startup in 2012, co-founded by Alex Johnson, Jack Parmer, Chris Parmer, and Matt Sundquist. It started as a platform to create interactive, web-based visualizations using Python, R, and Julia.\n",
    "\n",
    "**Purpose:** Plotly Express was introduced later to simplify the process of creating visualizations with Plotly. While the original Plotly API is quite flexible, it can be verbose for creating common visualizations. Plotly Express offers a more concise syntax, which makes it easier to produce standard visualizations with less code.\n",
    "\n",
    "**Evolution:** Over time, Plotly Express has been integrated more tightly with the broader Plotly library. It acts as a high-level interface, while the main Plotly library can be used for more detailed customization of plots.\n"
   ]
  },
  {
   "cell_type": "markdown",
   "metadata": {},
   "source": [
    "## Daily high prices for Cryptocurrency 2018 - 2023"
   ]
  },
  {
   "cell_type": "code",
   "execution_count": null,
   "metadata": {
    "tags": []
   },
   "outputs": [],
   "source": [
    "\n"
   ]
  },
  {
   "cell_type": "markdown",
   "metadata": {},
   "source": [
    "## Monthly US Candy Production 1972 - 2016"
   ]
  },
  {
   "cell_type": "code",
   "execution_count": null,
   "metadata": {
    "tags": []
   },
   "outputs": [],
   "source": [
    "\n",
    "              "
   ]
  },
  {
   "cell_type": "code",
   "execution_count": null,
   "metadata": {
    "tags": []
   },
   "outputs": [],
   "source": [
    "\n",
    "              \n",
    "    "
   ]
  },
  {
   "cell_type": "markdown",
   "metadata": {},
   "source": [
    "## Incorporating Elements of Space and Time in a Scatterplot"
   ]
  },
  {
   "cell_type": "code",
   "execution_count": null,
   "metadata": {
    "tags": []
   },
   "outputs": [],
   "source": []
  },
  {
   "cell_type": "code",
   "execution_count": null,
   "metadata": {},
   "outputs": [],
   "source": [
    "fig = px.scatter(df,\n",
    "                 x='gdpPercap',\n",
    "                 y='lifeExp',\n",
    "                 log_x=True,\n",
    "                 color='continent',\n",
    "                 size='pop',\n",
    "                 size_max=60,\n",
    "                 hover_name='country',\n",
    "                 animation_frame='year',\n",
    "                 labels = {'gdpPercap': 'Per Capita GDP', 'lifeExp': 'Life Expectancy' })\n",
    "\n",
    "fig.update_layout(title='Relationship of Per Capita GDP to Life Expectancy 1952 - 2007',\n",
    "                  height=500,\n",
    "                  yaxis_range = [20, 90])\n",
    "\n",
    "fig.show()"
   ]
  },
  {
   "cell_type": "markdown",
   "metadata": {
    "nbpresent": {
     "id": "0c1a956a-ab1f-4d46-b156-1616b3086bb6"
    },
    "slideshow": {
     "slide_type": "-"
    }
   },
   "source": [
    "It's amazing how much information this plot can communicate.  \n",
    "\n",
    "* How does life expectancy change during this time period?\n",
    "* How does GDP change?\n",
    "* How do these factors change for different regions of the world?\n",
    "* How does the size of a country impact these relationships?\n"
   ]
  },
  {
   "cell_type": "markdown",
   "metadata": {},
   "source": [
    "## Working with Plotly Express\n",
    "\n",
    "Let's take apart our Plotly Expess figure of the Gapminder data and build it up from the beginning, exploring how each feature works.\n",
    "\n",
    "We'll begin be importing `plotly.express as px` and loading the data - which comes as part of the plotly express package - into a DataFrame.\n",
    "\n",
    "Then we'll use Plotly to make a simple scatterplot of per capita GDP and Life expectancy."
   ]
  },
  {
   "cell_type": "code",
   "execution_count": null,
   "metadata": {
    "tags": []
   },
   "outputs": [],
   "source": []
  },
  {
   "cell_type": "markdown",
   "metadata": {},
   "source": [
    "That looks very different from where we will end up!  First things first, we've got a curved relationship between per capita GDP and life expectancy.  We learned in the last lesson that a linear model doesn't do a good job modeling the relationship between two features where the scatterplot has a curved pattern.  \n",
    "\n",
    "However, there are ways to \"straighten\" the relationship through feature engineering.  You aren't expected to know this, but a plot like this, where the points travel steeply up the y-axis and then flatten out, is characteristic of a logarithmic rather than linear relationship.\n",
    "\n",
    "That means that if we use a log scale for our x-axis, our points will fall into a line rather than a curve."
   ]
  },
  {
   "cell_type": "code",
   "execution_count": null,
   "metadata": {},
   "outputs": [],
   "source": []
  },
  {
   "cell_type": "markdown",
   "metadata": {},
   "source": [
    "That's much more like a straight line.\n",
    "\n",
    "Now let's differentiate the countries by size and continent.  It makes intuitive sense to make bigger countries bigger and smaller countries smaller (ordinal data) and to use color to indicate the continent they belong to (nominal data)."
   ]
  },
  {
   "cell_type": "code",
   "execution_count": null,
   "metadata": {
    "tags": []
   },
   "outputs": [],
   "source": []
  },
  {
   "cell_type": "markdown",
   "metadata": {},
   "source": [
    "Move your cursor over the map.  A tooltip appears and tells you the per capita GDP, the life expectancy, the country size and the continent.  \n",
    "\n",
    "However, it's missing an important piece of information - the actual name of the country!  Let's add that now."
   ]
  },
  {
   "cell_type": "code",
   "execution_count": null,
   "metadata": {
    "tags": []
   },
   "outputs": [],
   "source": []
  },
  {
   "cell_type": "markdown",
   "metadata": {},
   "source": [
    "If you hover over the large purple dots, you'll see something strange... China appears in the data multiple times.  This is because there's a large purple dot plotted for every year that data was recorded for China.  It's confusing to have them all plotted on the same plot at the same time, so let's add in the animation that shows different values of GDP and life expectancy at different times."
   ]
  },
  {
   "cell_type": "code",
   "execution_count": null,
   "metadata": {
    "tags": []
   },
   "outputs": [],
   "source": []
  },
  {
   "cell_type": "markdown",
   "metadata": {},
   "source": [
    "We're close to having explored all the features from our first graph, however, there are some basic issues we need to fix.  First, we could do a better job giving our figure a title and descriptive names to our x-axis and y-axis.  Second, We can change the size of the circles on our plot so they overlap less.  Third, our y-axis isn't sufficiently tall to show the entire range of life expectancy.  We need to modify our code to change these features."
   ]
  },
  {
   "cell_type": "code",
   "execution_count": null,
   "metadata": {
    "tags": []
   },
   "outputs": [],
   "source": []
  },
  {
   "cell_type": "markdown",
   "metadata": {},
   "source": [
    "## Plotting spatial data on a map\n",
    "\n",
    "Let's look at a synthetic dataset of car share stations in Montreal.\n",
    "\n",
    "The dataset contains the columns `peak_hour`, `car_hours`, `Latitude`, and `Longitude`. These columns represent whether it's peak hour at the car-sharing station, the total hours the cars have been used, and the latitude and longitude of the station respectively."
   ]
  },
  {
   "cell_type": "code",
   "execution_count": null,
   "metadata": {
    "tags": []
   },
   "outputs": [],
   "source": []
  },
  {
   "cell_type": "markdown",
   "metadata": {},
   "source": [
    "We can plot each car charging station using its latitude and longitude and change the size and color depending on how many hours the cars have been used.  Finally, we can gain more inisght into the use patterns of the charging stations by animating by peak hour from midnight to 11pm the next night."
   ]
  },
  {
   "cell_type": "code",
   "execution_count": null,
   "metadata": {
    "tags": []
   },
   "outputs": [],
   "source": [
    "\n"
   ]
  },
  {
   "cell_type": "code",
   "execution_count": null,
   "metadata": {
    "tags": []
   },
   "outputs": [],
   "source": [
    "\n"
   ]
  },
  {
   "cell_type": "code",
   "execution_count": null,
   "metadata": {},
   "outputs": [],
   "source": []
  },
  {
   "cell_type": "markdown",
   "metadata": {},
   "source": [
    "**What are some observations we can make about carshare use in Montreal?**"
   ]
  },
  {
   "cell_type": "markdown",
   "metadata": {},
   "source": [
    "## Visualizing the Gapminder Data on a Map\n",
    "\n",
    "Earlier we visualized the Gapminder data with an interactive scatterplot.  This was a great way to see how factors like country size, GDP, and life expectancy have changed over time in different countries.  However, wouldn't it be nice to see similar data plotted on a map?  Let's look at the Gapminder data one more time to remember the features included in it."
   ]
  },
  {
   "cell_type": "code",
   "execution_count": null,
   "metadata": {
    "tags": []
   },
   "outputs": [],
   "source": []
  },
  {
   "cell_type": "code",
   "execution_count": null,
   "metadata": {},
   "outputs": [],
   "source": [
    "\n",
    "                    "
   ]
  },
  {
   "cell_type": "markdown",
   "metadata": {},
   "source": [
    "This time we're going to make what's called a choropleth plot.  A choropleth plot (or choropleth map) is a visualization where areas are shaded or patterned in proportion to a feature of a geographic characteristic within each area, such as population density or per-capita income. The term \"choropleth\" comes from the Greek words \"choro\" (area/region) and \"pleth\" (a quantity).\n",
    "\n",
    "Let's begin by making a simple choropleth plot of life expectancy in each country."
   ]
  },
  {
   "cell_type": "code",
   "execution_count": null,
   "metadata": {},
   "outputs": [],
   "source": []
  },
  {
   "cell_type": "markdown",
   "metadata": {},
   "source": [
    "We can also add animation to show time like we did earlier with the `animation_frame` option."
   ]
  },
  {
   "cell_type": "code",
   "execution_count": null,
   "metadata": {},
   "outputs": [],
   "source": []
  },
  {
   "cell_type": "markdown",
   "metadata": {},
   "source": [
    "**However, there is one big problem with the way this data is being displayed.  Can you spot it?**"
   ]
  },
  {
   "cell_type": "code",
   "execution_count": null,
   "metadata": {},
   "outputs": [],
   "source": []
  },
  {
   "cell_type": "markdown",
   "metadata": {},
   "source": [
    "## Things to think about...\n",
    "\n",
    "**Start Simple:** One of the main advantages of Plotly Express is its ability to create complex visualizations with simple commands. Always start with a basic plot and then add complexity as needed.\n",
    "\n",
    "**Use the Right Plot:** Choose the visualization type that best represents your data. For example, use bar charts for categorical data comparison, scatter plots for bivariate relationships, and line charts for time series.\n",
    "\n",
    "**Interactive Features:** One of the primary benefits of Plotly Express is its interactive capabilities. Make use of features like hover tooltips, zooming, and panning to allow users to delve deeper into the data.\n",
    "\n",
    "**Consistent Styling:** While Plotly Express offers a lot of customization, it's essential to keep the style consistent, especially if presenting multiple visualizations together. Consistent use of colors, legends, and axis labels can make plots more readable and professional-looking.\n",
    "\n",
    "**Keep It Readable:** While it's tempting to add many features and details to a plot, clarity should always be the priority. Ensure axis labels are clear, legends are understandable, and the visualization doesn't feel cluttered.\n",
    "\n",
    "**Scale and Projection Matter**:\n",
    "    - Be cautious about the map projection you use. Different projections can distort land area, shapes, or distances. Choose one that is appropriate for your data and the message you're trying to convey.\n",
    "    - If zoom functionality is available, use it judiciously. Ensure that zoom levels make sense for the data being displayed.\n",
    "\n",
    "**Provide Context**: \n",
    "    - Use base maps that provide minimal context without overwhelming the main data. This could be just the outline of countries or major waterways.  It could also mean adding annotations to put a date or time in context.\n",
    "    - Legends are crucial. Ensure they are clear and positioned well.\n",
    "    \n",
    "**Keep Ethical Considerations in Mind**:\n",
    "    - Spatial and time data can sometimes be sensitive. Ensure that you're not revealing private or confidential information.\n",
    "    - Be aware of cultural or political sensitivities, especially when dealing with boundaries or disputed territories.\n",
    "\n",
    "**Stay Updated with Data Sources**: Geopolitical boundaries and place names can change. Ensure that the base map and spatial data you're using are up-to-date.\n"
   ]
  },
  {
   "cell_type": "markdown",
   "metadata": {
    "nbpresent": {
     "id": "67aad921-9962-45ed-80c6-8f7736734de7"
    }
   },
   "source": [
    "## OK\n",
    "Now you've had the opportunity to work with Plotly Express to display relationships over space and time.  This is a powerful tool that's great for making data come alive to your audience.\n"
   ]
  },
  {
   "cell_type": "code",
   "execution_count": null,
   "metadata": {
    "tags": []
   },
   "outputs": [],
   "source": []
  },
  {
   "cell_type": "code",
   "execution_count": null,
   "metadata": {
    "tags": []
   },
   "outputs": [],
   "source": [
    "\n"
   ]
  },
  {
   "cell_type": "code",
   "execution_count": null,
   "metadata": {},
   "outputs": [],
   "source": []
  }
 ],
 "metadata": {
  "anaconda-cloud": {},
  "kernelspec": {
   "display_name": "Python 3 (ipykernel)",
   "language": "python",
   "name": "python3"
  },
  "language_info": {
   "codemirror_mode": {
    "name": "ipython",
    "version": 3
   },
   "file_extension": ".py",
   "mimetype": "text/x-python",
   "name": "python",
   "nbconvert_exporter": "python",
   "pygments_lexer": "ipython3",
   "version": "3.11.4"
  },
  "nbpresent": {
   "slides": {
    "34eff841-f80d-4a8f-8357-17bd93a6b6b6": {
     "id": "34eff841-f80d-4a8f-8357-17bd93a6b6b6",
     "prev": "612060ed-a56e-4e98-8035-dcb72e32c5f9",
     "regions": {
      "1fc6cbe3-df5d-4878-8e59-a37913fe73ab": {
       "attrs": {
        "height": 0.2,
        "width": 0.4,
        "x": 0.1,
        "y": 0.7
       },
       "content": {
        "cell": "8a6715d2-6a82-4e80-bb85-8baf0ebeea43",
        "part": "source"
       },
       "id": "1fc6cbe3-df5d-4878-8e59-a37913fe73ab"
      },
      "6d973b24-3c3f-428b-81d0-f655de69d972": {
       "attrs": {
        "height": 0.6,
        "width": 0.8,
        "x": 0.1,
        "y": 0.1
       },
       "content": {
        "cell": "2f7ef0cc-bc31-4cc9-89d5-413b3d2b255d",
        "part": "outputs"
       },
       "id": "6d973b24-3c3f-428b-81d0-f655de69d972"
      },
      "71038bdd-6168-458b-813b-ab7f1d5d82ee": {
       "attrs": {
        "height": 0.2,
        "width": 0.4,
        "x": 0.5,
        "y": 0.7
       },
       "content": {
        "cell": "2f7ef0cc-bc31-4cc9-89d5-413b3d2b255d",
        "part": "source"
       },
       "id": "71038bdd-6168-458b-813b-ab7f1d5d82ee"
      }
     }
    },
    "612060ed-a56e-4e98-8035-dcb72e32c5f9": {
     "id": "612060ed-a56e-4e98-8035-dcb72e32c5f9",
     "prev": "b755ac9b-369b-42f3-8f1b-3d38f2d9b48f",
     "regions": {
      "7b0df5f1-0ae9-40e3-9a4f-0c0493ad018d": {
       "attrs": {
        "height": 0.8,
        "width": 0.45,
        "x": 0.5,
        "y": 0.1
       },
       "content": {
        "cell": "7ef3fac1-5008-43f2-83a5-f3ab874def7b",
        "part": "outputs"
       },
       "id": "7b0df5f1-0ae9-40e3-9a4f-0c0493ad018d"
      },
      "af6048f1-0dd5-40b7-881c-bd531e8cac35": {
       "attrs": {
        "height": 0.8,
        "width": 0.45,
        "x": 0.05,
        "y": 0.1
       },
       "content": {
        "cell": "7ef3fac1-5008-43f2-83a5-f3ab874def7b",
        "part": "source"
       },
       "id": "af6048f1-0dd5-40b7-881c-bd531e8cac35"
      }
     }
    },
    "7b102e3c-3412-485e-a759-bfd035d04df9": {
     "id": "7b102e3c-3412-485e-a759-bfd035d04df9",
     "prev": "8a461a60-c59a-4ab2-9071-b09f213ba8fe",
     "regions": {
      "36d3cc96-2767-4aa1-8eba-8a2791041813": {
       "attrs": {
        "height": 0.8,
        "width": 0.45,
        "x": 0.5,
        "y": 0.1
       },
       "content": {
        "cell": "d033f730-0b2c-4c40-a3c5-af53f84b6e95",
        "part": "source"
       },
       "id": "36d3cc96-2767-4aa1-8eba-8a2791041813"
      },
      "8f928954-2b05-4a8d-b74f-e0f1456f9b10": {
       "attrs": {
        "height": 0.8,
        "width": 0.45,
        "x": 0.05,
        "y": 0.1
       },
       "content": {
        "cell": "0dd1c9de-18f0-4b1b-a33d-6f971fb6ba42",
        "part": "source"
       },
       "id": "8f928954-2b05-4a8d-b74f-e0f1456f9b10"
      }
     }
    },
    "8a461a60-c59a-4ab2-9071-b09f213ba8fe": {
     "id": "8a461a60-c59a-4ab2-9071-b09f213ba8fe",
     "prev": null,
     "regions": {
      "0041f43e-489b-4426-9d67-8155ed6a6d75": {
       "attrs": {
        "height": 1,
        "width": 1,
        "x": 0,
        "y": 0
       },
       "content": {
        "cell": "3a9e249d-8f8e-48a7-94ad-7c0147a7980d",
        "part": "source"
       },
       "id": "0041f43e-489b-4426-9d67-8155ed6a6d75"
      }
     }
    },
    "b755ac9b-369b-42f3-8f1b-3d38f2d9b48f": {
     "id": "b755ac9b-369b-42f3-8f1b-3d38f2d9b48f",
     "prev": "7b102e3c-3412-485e-a759-bfd035d04df9",
     "regions": {
      "36e866fe-4fe9-47a1-bcda-2c171cec05a2": {
       "attrs": {
        "height": 0.4,
        "width": 0.4,
        "x": 0.5,
        "y": 0.5
       },
       "content": {
        "cell": "2724af73-fce5-47fa-8553-1861c3c06aca",
        "part": "outputs"
       },
       "id": "36e866fe-4fe9-47a1-bcda-2c171cec05a2"
      },
      "45c31f12-38bc-4476-b430-5ad7fa5d0199": {
       "attrs": {
        "height": 0.4,
        "width": 0.4,
        "x": 0.1,
        "y": 0.5
       },
       "id": "45c31f12-38bc-4476-b430-5ad7fa5d0199"
      },
      "47594419-c403-43ca-993a-e41204b580db": {
       "attrs": {
        "height": 0.4,
        "width": 0.4,
        "x": 0.5,
        "y": 0.1
       },
       "content": {
        "cell": "2724af73-fce5-47fa-8553-1861c3c06aca",
        "part": "source"
       },
       "id": "47594419-c403-43ca-993a-e41204b580db"
      },
      "cfa50bda-adb3-49cd-90f5-f5f6659dbf8e": {
       "attrs": {
        "height": 0.4,
        "width": 0.4,
        "x": 0.1,
        "y": 0.1
       },
       "content": {
        "cell": "0c1a956a-ab1f-4d46-b156-1616b3086bb6",
        "part": "source"
       },
       "id": "cfa50bda-adb3-49cd-90f5-f5f6659dbf8e"
      }
     }
    }
   },
   "themes": {
    "default": "4c068599-0700-4bd2-85ac-3d69d7b637f7",
    "theme": {}
   }
  }
 },
 "nbformat": 4,
 "nbformat_minor": 4
}
