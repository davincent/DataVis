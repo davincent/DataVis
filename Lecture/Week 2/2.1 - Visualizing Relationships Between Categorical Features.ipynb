{
 "cells": [
  {
   "cell_type": "markdown",
   "metadata": {},
   "source": [
    "# Visualizing relationships between categorical features - A machine learning perspective\n",
    "\n",
    "While understanding aspects of a single feature can be very helpful, we're often more interested in relationships between features.\n",
    "\n"
   ]
  },
  {
   "cell_type": "code",
   "execution_count": null,
   "metadata": {
    "tags": []
   },
   "outputs": [],
   "source": []
  },
  {
   "cell_type": "markdown",
   "metadata": {},
   "source": [
    "In data science, we sometimes have a single feature that we are most interested in predicting.  We typically call that feature the **target**.  \n",
    "\n",
    "**If you had to pick a single target feature from the Titanic data set, which one would it be?**"
   ]
  },
  {
   "cell_type": "markdown",
   "metadata": {},
   "source": [
    "## Survival of the sinking of the Titanic\n",
    "\n",
    "Were women and children really the first on the lifeboats?  Was it as bad for 3rd class passengers in real life as it was in the movie?  Let's explore the relationship between sex and survival.  Later you'll have an opportunity to look at the relationship between passenger class and survival.  Note that survived = 0 means the passenger didn't survive and survived = 1 means the passenger did survive.  Also note that this dataset was developed before the modern understanding of sex and gender so the labeling of sex as male and female is outdated, but it's what we've got."
   ]
  },
  {
   "cell_type": "markdown",
   "metadata": {},
   "source": [
    "## Cross-tabulations\n",
    "\n",
    "One useful - if less visually appealing - way to look at the relationship between passenger sex and survival is by making a cross-tabulation or cross-tab."
   ]
  },
  {
   "cell_type": "code",
   "execution_count": null,
   "metadata": {
    "tags": []
   },
   "outputs": [],
   "source": []
  },
  {
   "cell_type": "markdown",
   "metadata": {},
   "source": [
    "The cross-tabulation shows the number of individuals in each of the four categories created by sex and survival.  There were 81 female passengers who did not survive and 233 female passengers who did survive.  There were 468 male passengers who did not survive adn 109 male passengers who did survive.  "
   ]
  },
  {
   "cell_type": "markdown",
   "metadata": {},
   "source": [
    "We can switch the order of the features in the cross-tab and see the same relationships but with the rows and columns flipped."
   ]
  },
  {
   "cell_type": "code",
   "execution_count": null,
   "metadata": {
    "tags": []
   },
   "outputs": [],
   "source": []
  },
  {
   "cell_type": "markdown",
   "metadata": {},
   "source": [
    "## Relative Frequency\n",
    "\n",
    "The relative frequency of something happening is another way of saying the percent of time that it happens.  We can calculate the relative frequency of `Survived` and `Sex` for the Titanic passnegers by specifying `normalize=True` in our cross_tab statement and multiplying the whole statement by 100.  Part of the magic of a Pandas DataFrame is that this will multiply each entry in cross_tab by 100."
   ]
  },
  {
   "cell_type": "code",
   "execution_count": null,
   "metadata": {},
   "outputs": [],
   "source": []
  },
  {
   "cell_type": "code",
   "execution_count": null,
   "metadata": {
    "tags": []
   },
   "outputs": [],
   "source": []
  },
  {
   "cell_type": "markdown",
   "metadata": {},
   "source": [
    "## Stacked Bar Charts\n",
    "\n",
    "From the cross-tabs, it's pretty easy to see that more women survived than perished and more men perished than survived.  However, we can also display this data using a stacked bar chart."
   ]
  },
  {
   "cell_type": "markdown",
   "metadata": {},
   "source": [
    "To begin, we'll save our cross-tab as its own Pandas DataFrame named cross_tab."
   ]
  },
  {
   "cell_type": "code",
   "execution_count": null,
   "metadata": {
    "tags": []
   },
   "outputs": [],
   "source": []
  },
  {
   "cell_type": "code",
   "execution_count": null,
   "metadata": {
    "tags": []
   },
   "outputs": [],
   "source": []
  },
  {
   "cell_type": "code",
   "execution_count": null,
   "metadata": {
    "tags": []
   },
   "outputs": [],
   "source": []
  },
  {
   "cell_type": "code",
   "execution_count": null,
   "metadata": {},
   "outputs": [],
   "source": []
  },
  {
   "cell_type": "markdown",
   "metadata": {},
   "source": [
    "We can then use the built-in plotting features of Pandas to create a stacked barplot.  \n",
    "\n",
    "Let's make sure that we give the plot a good title and labels."
   ]
  },
  {
   "cell_type": "code",
   "execution_count": null,
   "metadata": {},
   "outputs": [],
   "source": []
  },
  {
   "cell_type": "markdown",
   "metadata": {},
   "source": [
    "Just for fun, we can see what would happen if we switched the order of 'Sex' and 'Survived' in the cross-tab.  What figure do you think does a better job illustrating the difference in survival for male and female passengers on the Titanic?"
   ]
  },
  {
   "cell_type": "code",
   "execution_count": null,
   "metadata": {},
   "outputs": [],
   "source": []
  },
  {
   "cell_type": "code",
   "execution_count": null,
   "metadata": {
    "tags": []
   },
   "outputs": [],
   "source": [
    "\n"
   ]
  },
  {
   "cell_type": "markdown",
   "metadata": {},
   "source": [
    "## Let's make some small improvements\n",
    "\n",
    "The last two graphs we made aren't bad, but they could be better.  We'll make some tweaks with the help of another Python package called `Matplotlib`.  `Matplotlib` is a powerful visualization package on its own, but we can also use it to improve visualizations we make with other packages such as `Pandas`.\n",
    "\n",
    "By convention, we always import `matplotlib.pyplot` with the alias `plt`"
   ]
  },
  {
   "cell_type": "code",
   "execution_count": null,
   "metadata": {},
   "outputs": [],
   "source": []
  },
  {
   "cell_type": "markdown",
   "metadata": {},
   "source": [
    "We can make changes to our plot using Matplotlib methods such as `plt.legend()`, `plt.title()`, and `plt.xticks()`.  Once we've made all of the changes we want to our plot, we show the final version of our visualization using `plt.show()`.\n",
    "\n",
    "Let's look at our first bar chart with `Sex` on the x-axis and `Survived` making up the stacked bars."
   ]
  },
  {
   "cell_type": "code",
   "execution_count": null,
   "metadata": {
    "tags": []
   },
   "outputs": [],
   "source": [
    "\n"
   ]
  },
  {
   "cell_type": "markdown",
   "metadata": {},
   "source": [
    "Let's use `Matplotlib` to rotate and capitalize the x-axis labels to be more descriptive using `plt.xticks()`."
   ]
  },
  {
   "cell_type": "code",
   "execution_count": null,
   "metadata": {},
   "outputs": [],
   "source": [
    "\n"
   ]
  },
  {
   "cell_type": "markdown",
   "metadata": {},
   "source": [
    "Finally, let's give the figure a more descriptive legend."
   ]
  },
  {
   "cell_type": "code",
   "execution_count": null,
   "metadata": {},
   "outputs": [],
   "source": [
    "\n"
   ]
  },
  {
   "cell_type": "markdown",
   "metadata": {},
   "source": [
    "## Conditional proportions\n",
    "\n",
    "It's easy to see - in raw numbers - that more men than women perished and more women than men survived.\n",
    "\n",
    "Let's look at a new pair of categorical features where the relationship is less straightforward: **Were individuals with parents and/or children with them on board more likely to survive than individuals who did not have parents and/or children with them?**\n",
    "\n",
    "The `Parch` feature gives the number of parents and/or children who were traveling with the individual on the Titanic.\n",
    "\n",
    "We can see that most people were traveling alone (`Parch = 0`) but some were traveling with a number of people.  "
   ]
  },
  {
   "cell_type": "code",
   "execution_count": null,
   "metadata": {
    "tags": []
   },
   "outputs": [],
   "source": []
  },
  {
   "cell_type": "code",
   "execution_count": null,
   "metadata": {
    "tags": []
   },
   "outputs": [],
   "source": []
  },
  {
   "cell_type": "code",
   "execution_count": null,
   "metadata": {
    "tags": []
   },
   "outputs": [],
   "source": []
  },
  {
   "cell_type": "markdown",
   "metadata": {},
   "source": [
    "`Parch` is an ordinal, categorical feature.  However, to answer our question, we need to do some feature engineering so we have a feature that tells us *if* the passenger had parents and/or children with them aboard rather than *how many* parents and/or children were with them.  \n",
    "\n",
    "To do this, we can create `Parch_cat` to indicate if there were (`Parch_cat = 1`) or were not (`Parch_cat` = 0) parents and/or children with the individual."
   ]
  },
  {
   "cell_type": "code",
   "execution_count": null,
   "metadata": {},
   "outputs": [],
   "source": []
  },
  {
   "cell_type": "code",
   "execution_count": null,
   "metadata": {},
   "outputs": [],
   "source": []
  },
  {
   "cell_type": "code",
   "execution_count": null,
   "metadata": {
    "tags": []
   },
   "outputs": [],
   "source": []
  },
  {
   "cell_type": "markdown",
   "metadata": {},
   "source": [
    "We can see that about 76% of people were traveling without parents and/or children and about 24% were traveling with parents and/or children.  Who was more likely to survive?  Let's look at a cross-tab:"
   ]
  },
  {
   "cell_type": "code",
   "execution_count": null,
   "metadata": {},
   "outputs": [],
   "source": []
  },
  {
   "cell_type": "markdown",
   "metadata": {},
   "source": [
    "We see that a greater number of passengers without parents/children on board survived (233 vs 109) BUT a greater number of passengers without parents/children on board also perished (445 vs 104).  Did they do better?  Worse?  How can we tell?\n",
    "\n",
    "Because there were many more passengers traveling without parents and/or children, rather than comparing the number of passengers who survived and didn't survive, we need to compare the conditional distribution of survival for those with and without parents/children."
   ]
  },
  {
   "cell_type": "code",
   "execution_count": null,
   "metadata": {
    "tags": []
   },
   "outputs": [],
   "source": [
    "\n",
    "\n"
   ]
  },
  {
   "cell_type": "code",
   "execution_count": null,
   "metadata": {
    "tags": []
   },
   "outputs": [],
   "source": []
  },
  {
   "cell_type": "code",
   "execution_count": null,
   "metadata": {
    "tags": []
   },
   "outputs": [],
   "source": []
  },
  {
   "cell_type": "markdown",
   "metadata": {},
   "source": [
    "## Conditional distributions"
   ]
  },
  {
   "cell_type": "markdown",
   "metadata": {},
   "source": [
    "The conditional distribution of two categorical features tells us the proportion of individuals in one category that also fall in another category.  \n",
    "\n",
    "For example: What proportion of passengers with parents and/or children with them survived?  \n",
    "\n",
    "The word \"of\" is a clue that we want to look at the conditional distribution of survival given a passenger's companions (or lack thereof).  We can calculate the conditional distribution of one feature given the other by specifying `index` (for rows) or `columns` depending on your choice of \"of\" feature.\n"
   ]
  },
  {
   "cell_type": "code",
   "execution_count": null,
   "metadata": {},
   "outputs": [],
   "source": []
  },
  {
   "cell_type": "code",
   "execution_count": null,
   "metadata": {
    "tags": []
   },
   "outputs": [],
   "source": []
  },
  {
   "cell_type": "code",
   "execution_count": null,
   "metadata": {
    "tags": []
   },
   "outputs": [],
   "source": []
  },
  {
   "cell_type": "code",
   "execution_count": null,
   "metadata": {
    "tags": []
   },
   "outputs": [],
   "source": []
  },
  {
   "cell_type": "code",
   "execution_count": null,
   "metadata": {
    "tags": []
   },
   "outputs": [],
   "source": []
  },
  {
   "cell_type": "code",
   "execution_count": null,
   "metadata": {
    "tags": []
   },
   "outputs": [],
   "source": []
  },
  {
   "cell_type": "code",
   "execution_count": null,
   "metadata": {
    "tags": []
   },
   "outputs": [],
   "source": []
  },
  {
   "cell_type": "markdown",
   "metadata": {},
   "source": [
    "Now we are calculating the percent of passengers with parents/children who survived compared to the percent of passengers without parents/children who survived.  \n",
    "\n",
    "**Using this comparison, which group seems more likely to survive?**"
   ]
  },
  {
   "cell_type": "code",
   "execution_count": null,
   "metadata": {
    "tags": []
   },
   "outputs": [],
   "source": []
  },
  {
   "cell_type": "markdown",
   "metadata": {},
   "source": [
    "# Visualizing relationships between categorical features - A/B Testing\n",
    "\n",
    "A/B testing, also known as split testing, is a method used to compare two versions of a web page, application, advertisement, or other marketing material to determine which one performs better. The essence of an A/B test is to conduct a controlled experiment with two variants, A and B, where A typically represents the current version (control), and B is the new version (test).\n",
    "\n",
    "### Key Components of A/B Testing:\n",
    "\n",
    "**Hypothesis Formation:** Before conducting an A/B test, a clear hypothesis is formed, predicting how the change in version B will impact a specific metric compared to version A.\n",
    "\n",
    "**Randomized Assignment:** Users are randomly assigned to either the control group (A) or the test group (B) to eliminate selection bias. This randomization ensures that each group is statistically similar.\n",
    "\n",
    "**Control and Variation:** The control group experiences the original version (A), while the variation group experiences the new version (B). The difference between these versions might be something as small as a color change in a button or as significant as a complete redesign.\n",
    "\n",
    "**Measurement and Data Collection:** Data is collected on how users interact with each version. Key performance indicators (KPIs) such as conversion rates, click-through rates, engagement metrics, or other relevant metrics are measured.\n",
    "\n",
    "**Statistical Analysis:** The results are analyzed statistically to determine if there is a significant difference in performance between the two versions. Tools like t-tests or analysis of variance (ANOVA) are commonly used for this purpose.\n",
    "\n",
    "**Decision Making:** Based on the outcome of the analysis, a decision is made whether to adopt the new version, keep the existing one, or run additional tests.\n",
    "\n",
    "### Applications of A/B Testing:\n",
    "\n",
    "A/B testing is widely used in various fields such as marketing, web design, product development, and even in policy-making. In e-commerce, for instance, it can help determine the most effective design for a product page to maximize sales. In digital marketing, it can identify the most compelling ad copy to improve click-through rates.\n",
    "\n",
    "### Benefits of A/B Testing:\n",
    "\n",
    "**Data-Driven Decisions:** It helps in making decisions based on actual user data rather than assumptions.\n",
    "\n",
    "**Improved User Engagement:** By testing different versions, one can understand what works best for the audience.\n",
    "\n",
    "**Continuous Improvement:** It allows for iterative improvements, constantly optimizing user experience and performance.\n"
   ]
  },
  {
   "cell_type": "markdown",
   "metadata": {
    "tags": []
   },
   "source": [
    "### A/B Testing Dataset:\n",
    "\n",
    "A large company with a substantial user base plans to increase sales through advertisement on its website. However, they are still undecided about whether the ads increase sales or not. In order to determine whether this is the case, customers were subjected to A/B testing for 31 days.\n",
    "\n",
    "Columns:\n",
    "\n",
    "**user id:** unique identifier for the customer\n",
    "\n",
    "**test group:** composed of 96% 'ad' and 4% 'psa' group.\n",
    "\n",
    "**converted:** A Boolean value representing whether or not the user made a purchase after seeing an advertisement.\n",
    "\n",
    "**total ads:** total number of ads seen by each user.\n",
    "\n",
    "**most ads day:** A day of the month when the user saw the most ads.\n",
    "\n",
    "**most ads hour:** An hour of the day when the user saw the most ads.\n"
   ]
  },
  {
   "cell_type": "markdown",
   "metadata": {},
   "source": [
    "**Were customers who viewed the ad more likely to convert than customers who viewed the PSA?**"
   ]
  },
  {
   "cell_type": "code",
   "execution_count": null,
   "metadata": {
    "tags": []
   },
   "outputs": [],
   "source": []
  },
  {
   "cell_type": "code",
   "execution_count": null,
   "metadata": {},
   "outputs": [],
   "source": [
    "\n"
   ]
  },
  {
   "cell_type": "code",
   "execution_count": null,
   "metadata": {},
   "outputs": [],
   "source": [
    "\n"
   ]
  },
  {
   "cell_type": "code",
   "execution_count": null,
   "metadata": {
    "tags": []
   },
   "outputs": [],
   "source": []
  },
  {
   "cell_type": "code",
   "execution_count": null,
   "metadata": {
    "tags": []
   },
   "outputs": [],
   "source": []
  },
  {
   "cell_type": "code",
   "execution_count": null,
   "metadata": {},
   "outputs": [],
   "source": [
    "\n",
    "\n"
   ]
  },
  {
   "cell_type": "markdown",
   "metadata": {},
   "source": [
    "**In which display - the stacked bar chart or the crosstab - was it easiest to compare the percent of individuals who saw the Ad and PSA and converted?**\n",
    "\n",
    "Sometimes if differences are small in absolute terms (even if one value is greater than the other in a relative sense) a bar chart isn't the right display."
   ]
  },
  {
   "cell_type": "markdown",
   "metadata": {},
   "source": [
    "## Other visualizations of the relationship between two categorical features\n",
    "\n",
    "### Mosiac Plot"
   ]
  },
  {
   "cell_type": "markdown",
   "metadata": {},
   "source": [
    "A mosaic plot is a graphical method for visualizing the association between two categorical variables. It displays rectangles that are divided into smaller rectangles, where the area of each smaller rectangle is proportional to the joint frequency of the categories.\n"
   ]
  },
  {
   "cell_type": "markdown",
   "metadata": {},
   "source": [
    "<img src=\"images/Mosaic-big.png\">\n",
    "\n",
    "By Seancarmody - Own work, CC BY-SA 3.0, https://commons.wikimedia.org/w/index.php?curid=7389833"
   ]
  },
  {
   "cell_type": "markdown",
   "metadata": {},
   "source": [
    "## Sankey Diagram\n",
    "\n",
    "A Sankey diagram can be used to visualize the flow or connection between two categorical variables. It's especially useful when showing the transition or distribution of data from one category to another.\n",
    "\n",
    "<img src=\"images/sankey diagram.png\">\n",
    "https://www.sankeyart.com/content/blog/why-a-sankey-diagram-is-the-best-way-to-visualize-an-income-statement/"
   ]
  },
  {
   "cell_type": "markdown",
   "metadata": {},
   "source": [
    "## Venn Diagram\n",
    "\n",
    "Venn diagrams can be used to visualize the overlap or common elements between two categorical features when they are sets or categories.\n",
    "\n",
    "<img src=\"images/Venn_diagram_example.png\">\n",
    "\n",
    "Lesabot, CC BY-SA 4.0 <https://creativecommons.org/licenses/by-sa/4.0>, via Wikimedia Commons"
   ]
  },
  {
   "cell_type": "markdown",
   "metadata": {},
   "source": [
    "## Graphics styles"
   ]
  },
  {
   "cell_type": "markdown",
   "metadata": {},
   "source": [
    "One final thing that's fun to play with: You can change the entire display style of a figure using Matplotlib.  Running the code block below gives a list of different styles available.  You'll see that \"seaborn\" comes up a lot.  That's a plotting library that we will use in the future.  People really like the style of Seaborn graphics."
   ]
  },
  {
   "cell_type": "code",
   "execution_count": null,
   "metadata": {},
   "outputs": [],
   "source": [
    "print(plt.style.available)"
   ]
  },
  {
   "cell_type": "code",
   "execution_count": null,
   "metadata": {},
   "outputs": [],
   "source": [
    "plt.style.use('seaborn-v0_8-muted')\n"
   ]
  },
  {
   "cell_type": "markdown",
   "metadata": {
    "nbpresent": {
     "id": "d6e6a115-c061-4802-83bf-248da63822b7"
    }
   },
   "source": [
    "Explore the features of Matplotlib that we discussed in class and feel free to Google to see what other features exist.  There are probably thousands!"
   ]
  }
 ],
 "metadata": {
  "anaconda-cloud": {},
  "kernelspec": {
   "display_name": "Python 3 (ipykernel)",
   "language": "python",
   "name": "python3"
  },
  "language_info": {
   "codemirror_mode": {
    "name": "ipython",
    "version": 3
   },
   "file_extension": ".py",
   "mimetype": "text/x-python",
   "name": "python",
   "nbconvert_exporter": "python",
   "pygments_lexer": "ipython3",
   "version": "3.11.4"
  }
 },
 "nbformat": 4,
 "nbformat_minor": 4
}
